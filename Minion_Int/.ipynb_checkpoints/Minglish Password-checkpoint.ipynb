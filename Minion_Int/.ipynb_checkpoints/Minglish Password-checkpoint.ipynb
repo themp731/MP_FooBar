{
 "cells": [
  {
   "cell_type": "code",
   "execution_count": 94,
   "metadata": {
    "collapsed": false
   },
   "outputs": [],
   "source": [
    "#Float division needs to imported for python v2\n",
    "from __future__ import division\n",
    "\n",
    "#Import item getter for sorting lists/tuples\n",
    "from operator import itemgetter"
   ]
  },
  {
   "cell_type": "code",
   "execution_count": 107,
   "metadata": {
    "collapsed": false
   },
   "outputs": [],
   "source": [
    "def answer(minions):\n",
    "    #Always try shortest time first, then so on based on the probability that the previous question was right.\n",
    "    min_time = [(time/(numer/denom)) for time, numer, denom in minions]\n",
    "\n",
    "    #id each time\n",
    "    min_id = range(len(min_time))\n",
    "    min_sort = zip(min_id,min_time)\n",
    "\n",
    "    #sort the minions\n",
    "    min_order = sorted(min_sort, key=itemgetter(1))\n",
    "    \n",
    "    #list of only the minion id number\n",
    "    min_list = [i[0] for i in min_order]\n",
    "    return min_list"
   ]
  },
  {
   "cell_type": "code",
   "execution_count": 108,
   "metadata": {
    "collapsed": true
   },
   "outputs": [],
   "source": [
    "input1 = [[5, 1, 5], [10, 1, 2]]\n",
    "Output1 = [1, 0]\n",
    "\n",
    "input2 = [[390, 185, 624], [686, 351, 947], [276, 1023, 1024], [199, 148, 250]]\n",
    "Output2 = [2, 3, 0, 1]"
   ]
  },
  {
   "cell_type": "code",
   "execution_count": 109,
   "metadata": {
    "collapsed": false
   },
   "outputs": [
    {
     "name": "stdout",
     "output_type": "stream",
     "text": [
      "[(1, 20.0), (0, 25.0)]\n",
      "[1, 0]\n",
      "[(2, 276.2697947214076), (3, 336.14864864864865), (0, 1315.4594594594594), (1, 1850.8319088319088)]\n",
      "[2, 3, 0, 1]\n"
     ]
    }
   ],
   "source": [
    "answer(input1)\n",
    "answer(input2)"
   ]
  },
  {
   "cell_type": "code",
   "execution_count": null,
   "metadata": {
    "collapsed": true
   },
   "outputs": [],
   "source": []
  }
 ],
 "metadata": {
  "kernelspec": {
   "display_name": "Python 2",
   "language": "python",
   "name": "python2"
  },
  "language_info": {
   "codemirror_mode": {
    "name": "ipython",
    "version": 2
   },
   "file_extension": ".py",
   "mimetype": "text/x-python",
   "name": "python",
   "nbconvert_exporter": "python",
   "pygments_lexer": "ipython2",
   "version": "2.7.11"
  }
 },
 "nbformat": 4,
 "nbformat_minor": 0
}
