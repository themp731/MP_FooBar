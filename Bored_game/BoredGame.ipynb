{
 "cells": [
  {
   "cell_type": "markdown",
   "metadata": {},
   "source": [
    "https://github.com/dlew/google-foobar/blob/master/src/main/java/com/google/challenges/MinionsBoredGame.java\n",
    "https://boeingdream.wordpress.com/2016/03/06/google-foobar-challenge-minions-bored-game/\n",
    "http://javafaqzz.blogspot.com/2015/04/ternary-combinations-challenge-java-on.html\n",
    "http://stackoverflow.com/questions/30521306/foobar-challenge-minions-bored-game"
   ]
  },
  {
   "cell_type": "code",
   "execution_count": 79,
   "metadata": {
    "collapsed": true
   },
   "outputs": [],
   "source": [
    "from unittest import TestCase\n",
    "import sys"
   ]
  },
  {
   "cell_type": "code",
   "execution_count": 80,
   "metadata": {
    "collapsed": false
   },
   "outputs": [],
   "source": [
    "mod = 123454321\n",
    "\n",
    "def answer(rolls, cells):\n",
    "    turn = 0\n",
    "    board = []\n",
    "    start = 0\n",
    "    end = cells\n",
    "    current = 0\n",
    "    while turn < rolls:\n",
    "        if (current + 1) == end:\n",
    "            turn+=1\n",
    "        elif current != 0:\n",
    "            turn+=1\n",
    "            current-=1\n",
    "        else:\n",
    "            turn+=1\n",
    "            current+=1\n",
    "        turn = turn % mod \n",
    "    print turn\n",
    "    return turn"
   ]
  },
  {
   "cell_type": "code",
   "execution_count": 81,
   "metadata": {
    "collapsed": false
   },
   "outputs": [],
   "source": [
    "mod = 123454321\n",
    "def answer_2(rolls, cells):\n",
    "    start = 1\n",
    "    turns = 1\n",
    "    prev_paths = [0]*cells\n",
    "    cur_paths = [0]*cells\n",
    "    new = 0\n",
    "    #Base cases\n",
    "    if cells-rolls > 1:\n",
    "        return 0\n",
    "    elif cells == 2:\n",
    "        return rolls\n",
    "    elif cells ==  rolls:\n",
    "        return cells\n",
    "#Take the number of rolls as given, then gind the amount of moves in each additional set\n",
    "    else:\n",
    "        while cells < rolls:\n",
    "            if turns < (cells - 1):\n",
    "                turns+=1\n",
    "            j = 0\n",
    "            while (j<cells) and (j<turns+1):\n",
    "                if j==0:\n",
    "                    cur_paths[j] = prev_paths[j] + prev_paths[j+1]\n",
    "                    j+=1\n",
    "                elif j == turns:\n",
    "                    if j == (cells - 1):\n",
    "                        new += prev_paths[j-1]\n",
    "                        j+=1\n",
    "                    else:\n",
    "                        cur_paths[j] = prev_paths[j-1]\n",
    "                        j+=1\n",
    "            prev_paths = cur_paths\n",
    "        return new % mod"
   ]
  },
  {
   "cell_type": "code",
   "execution_count": 126,
   "metadata": {
    "collapsed": false
   },
   "outputs": [],
   "source": [
    "mod = 123454321\n",
    "def answer_3(rolls, cells):\n",
    "    \n",
    "    #Set up Scoreboard, 1 for current # of cells, 1 for previous set\n",
    "    currentPos = [0]*cells\n",
    "    prevPos = [0]*cells\n",
    "    turns = 1\n",
    "    currentPos[cells-1] = 1\n",
    "    \n",
    "    #Base Cases\n",
    "    if (cells-rolls)>1:\n",
    "        return 0\n",
    "    elif (cells==2):\n",
    "        return rolls\n",
    "    elif (rolls==cells):\n",
    "        return rolls\n",
    "    else:   \n",
    "        #Iterate Through Possibilities\n",
    "        for turn in range(0,rolls):\n",
    "            holder = prevPos\n",
    "            prevPos = currentPos\n",
    "            currentPos = holder\n",
    "\n",
    "            #Check previous location decisions\n",
    "            #iterate through each location, find options, sum up\n",
    "            for loc in range(0,cells):\n",
    "                #Start with same number of methods as previous number of cells\n",
    "                currentPos[loc] = prevPos[loc]\n",
    "\n",
    "                #Means we're at rightmost cell, stayput\n",
    "                if (loc+1) == cells:\n",
    "                    continue\n",
    "\n",
    "                #means we can go back left one cell and can do the same amount of options as previous\n",
    "                if loc != 0:\n",
    "                    currentPos[loc] += prevPos[loc-1]\n",
    "\n",
    "                #Number of changes if we move one right\n",
    "                currentPos[loc] += prevPos[loc+1] \n",
    "    \n",
    "    raw = currentPos[0]\n",
    "    result = raw%mod\n",
    "    return(result)"
   ]
  },
  {
   "cell_type": "code",
   "execution_count": 127,
   "metadata": {
    "collapsed": false
   },
   "outputs": [
    {
     "name": "stdout",
     "output_type": "stream",
     "text": [
      "1\n",
      "Answer should be: 1\n"
     ]
    }
   ],
   "source": [
    "print answer_3(9,10)\n",
    "print(\"Answer should be: 1\")"
   ]
  },
  {
   "cell_type": "code",
   "execution_count": 128,
   "metadata": {
    "collapsed": false
   },
   "outputs": [
    {
     "name": "stdout",
     "output_type": "stream",
     "text": [
      "10\n",
      "Answer should be: 10\n"
     ]
    }
   ],
   "source": [
    "print answer_3(10,10)\n",
    "print(\"Answer should be: 10\")"
   ]
  },
  {
   "cell_type": "code",
   "execution_count": 129,
   "metadata": {
    "collapsed": false
   },
   "outputs": [
    {
     "name": "stdout",
     "output_type": "stream",
     "text": [
      "63\n",
      "Answer should be: 63\n"
     ]
    }
   ],
   "source": [
    "print answer_3(11,10)\n",
    "print(\"Answer should be: 63\")"
   ]
  },
  {
   "cell_type": "code",
   "execution_count": 130,
   "metadata": {
    "collapsed": false
   },
   "outputs": [
    {
     "name": "stdout",
     "output_type": "stream",
     "text": [
      "20636\n",
      "Answer should be: 20636\n"
     ]
    }
   ],
   "source": [
    "print answer_3(15,10)\n",
    "print(\"Answer should be: 20636\")"
   ]
  },
  {
   "cell_type": "code",
   "execution_count": 131,
   "metadata": {
    "collapsed": false
   },
   "outputs": [
    {
     "name": "stdout",
     "output_type": "stream",
     "text": [
      "28107209\n",
      "Answer should be: 28107209\n"
     ]
    }
   ],
   "source": [
    "print answer_3(21,10)\n",
    "print(\"Answer should be: 28107209\")"
   ]
  },
  {
   "cell_type": "code",
   "execution_count": 132,
   "metadata": {
    "collapsed": false
   },
   "outputs": [
    {
     "name": "stdout",
     "output_type": "stream",
     "text": [
      "87854134\n",
      "Answer should be: 87854134\n"
     ]
    }
   ],
   "source": [
    "print answer_3(22,10)\n",
    "print(\"Answer should be: 87854134\")"
   ]
  },
  {
   "cell_type": "code",
   "execution_count": 134,
   "metadata": {
    "collapsed": false
   },
   "outputs": [
    {
     "name": "stdout",
     "output_type": "stream",
     "text": [
      "60996905\n",
      "Answer should be: 60996905\n"
     ]
    }
   ],
   "source": [
    "print answer_3(500,100)\n",
    "print(\"Answer should be: 60996905\")"
   ]
  },
  {
   "cell_type": "code",
   "execution_count": null,
   "metadata": {
    "collapsed": true
   },
   "outputs": [],
   "source": [
    "print answer_3(500,100)\n",
    "print(\"Answer should be: 60996905\")"
   ]
  },
  {
   "cell_type": "code",
   "execution_count": 138,
   "metadata": {
    "collapsed": false
   },
   "outputs": [
    {
     "name": "stdout",
     "output_type": "stream",
     "text": [
      "1\n"
     ]
    }
   ],
   "source": [
    "print answer_3(10,1)"
   ]
  },
  {
   "cell_type": "code",
   "execution_count": null,
   "metadata": {
    "collapsed": true
   },
   "outputs": [],
   "source": []
  }
 ],
 "metadata": {
  "kernelspec": {
   "display_name": "Python 2",
   "language": "python",
   "name": "python2"
  },
  "language_info": {
   "codemirror_mode": {
    "name": "ipython",
    "version": 2
   },
   "file_extension": ".py",
   "mimetype": "text/x-python",
   "name": "python",
   "nbconvert_exporter": "python",
   "pygments_lexer": "ipython2",
   "version": "2.7.11"
  }
 },
 "nbformat": 4,
 "nbformat_minor": 0
}
