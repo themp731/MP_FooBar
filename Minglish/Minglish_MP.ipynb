{
 "cells": [
  {
   "cell_type": "code",
   "execution_count": null,
   "metadata": {
    "collapsed": false
   },
   "outputs": [],
   "source": []
  },
  {
   "cell_type": "code",
   "execution_count": 115,
   "metadata": {
    "collapsed": true
   },
   "outputs": [],
   "source": [
    "#Set up directed graph with branches\n",
    "def create_graph(words):\n",
    "    alphabet = {}\n",
    "    graph_size = len(words)\n",
    "    graph_iter = range(graph_size-1)\n",
    "    for vert in graph_iter:\n",
    "        vertice, weight = new_edge(words[vert],words[vert+1])\n",
    "        if vertice in alphabet:\n",
    "            alphabet[vertice].append(weight)\n",
    "        else:\n",
    "            #dict values must be lists to append\n",
    "            alphabet[vertice] = [weight]\n",
    "    return alphabet"
   ]
  },
  {
   "cell_type": "code",
   "execution_count": 116,
   "metadata": {
    "collapsed": true
   },
   "outputs": [],
   "source": [
    "#Finding the order of characters in words\n",
    "def new_edge(one, two):\n",
    "    for char in range(min(len(one),len(two))):\n",
    "        #First different letters will show the order in minglish\n",
    "        if one[char] != two[char]:\n",
    "            return one[char],two[char]\n",
    "    return None"
   ]
  },
  {
   "cell_type": "code",
   "execution_count": 117,
   "metadata": {
    "collapsed": true
   },
   "outputs": [],
   "source": [
    "#Finding the root of our directional graph\n",
    "def find_root(graph):\n",
    "    #Using set instead of list, does not allow duplicates\n",
    "    missing = set()\n",
    "    edges = set()\n",
    "    #Get each letter relationship in graph\n",
    "    for rels in graph.values():\n",
    "        for char in rels:\n",
    "            edges.add(char)\n",
    "    for key in graph:\n",
    "        if key not in edges:\n",
    "            missing.add(key)\n",
    "    #Now we know where we don't have a relationship mapped\n",
    "    return missing"
   ]
  },
  {
   "cell_type": "code",
   "execution_count": 139,
   "metadata": {
    "collapsed": true
   },
   "outputs": [],
   "source": [
    "def answer(words):\n",
    "    #Create dictionary of words and relationships\n",
    "    graph = create_graph(words)\n",
    "    #Find missing values to start direction\n",
    "    root = find_root(graph)\n",
    "    tested=[]\n",
    "    language = []\n",
    "    #Recursive embedded function, standalone class sort failed\n",
    "    def find_path(letter):\n",
    "        if letter not in tested:\n",
    "            tested.append(letter)\n",
    "            if letter in graph:\n",
    "                for value in graph[letter]:\n",
    "                    find_path(value)\n",
    "            language.append(letter)\n",
    "    for char in root:\n",
    "        find_path(char)\n",
    "    #Running in set order will get order reverse from recursive function\n",
    "    language.reverse()\n",
    "    language = \"\".join(language)\n",
    "    return language"
   ]
  },
  {
   "cell_type": "code",
   "execution_count": 140,
   "metadata": {
    "collapsed": false
   },
   "outputs": [
    {
     "name": "stdout",
     "output_type": "stream",
     "text": [
      "xzy\n",
      "yzx\n",
      "bac\n"
     ]
    }
   ],
   "source": [
    "words = [\"z\",\"yx\",\"yz\"]\n",
    "words1 = [\"y\",\"z\",\"xy\"]\n",
    "words2 = [\"ba\",\"ab\",\"cb\"]\n",
    "mylist = [words,words1,words2]\n",
    "for i in mylist:\n",
    "    print answer(i)"
   ]
  },
  {
   "cell_type": "code",
   "execution_count": null,
   "metadata": {
    "collapsed": true
   },
   "outputs": [],
   "source": []
  }
 ],
 "metadata": {
  "kernelspec": {
   "display_name": "Python 2",
   "language": "python",
   "name": "python2"
  },
  "language_info": {
   "codemirror_mode": {
    "name": "ipython",
    "version": 2
   },
   "file_extension": ".py",
   "mimetype": "text/x-python",
   "name": "python",
   "nbconvert_exporter": "python",
   "pygments_lexer": "ipython2",
   "version": "2.7.11"
  }
 },
 "nbformat": 4,
 "nbformat_minor": 0
}
