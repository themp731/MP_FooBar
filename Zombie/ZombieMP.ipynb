{
 "cells": [
  {
   "cell_type": "code",
   "execution_count": 38,
   "metadata": {
    "collapsed": true
   },
   "outputs": [],
   "source": [
    "#Using \"itemgetter\" improves sorting over using for loop and splitting.\n",
    "import operator"
   ]
  },
  {
   "cell_type": "code",
   "execution_count": 89,
   "metadata": {
    "collapsed": false
   },
   "outputs": [],
   "source": [
    "def answer(meetings):\n",
    "    schedule = []\n",
    "    total = 0\n",
    "    appt_sort = sorted(meetings, key=operator.itemgetter(1))\n",
    "    for appt in appt_sort:\n",
    "        booked=False\n",
    "        for scheduled in schedule:\n",
    "            #Meetings that start before a scheduled appt ends, but finish after it starts are conflicting\n",
    "            if scheduled[0] < appt[1] and scheduled[1] > appt[0]:\n",
    "                booked=True\n",
    "        if not booked:\n",
    "            schedule.append(appt)\n",
    "    return len(schedule)"
   ]
  },
  {
   "cell_type": "code",
   "execution_count": 90,
   "metadata": {
    "collapsed": false
   },
   "outputs": [
    {
     "name": "stdout",
     "output_type": "stream",
     "text": [
      "4\n",
      "1\n"
     ]
    }
   ],
   "source": [
    "print answer([[0, 1], [1, 2], [2, 3], [3,6], [3, 5], [4, 5]])\n",
    "print answer([[0, 1000000], [42, 43], [0, 1000000], [42, 43]])"
   ]
  },
  {
   "cell_type": "code",
   "execution_count": null,
   "metadata": {
    "collapsed": true
   },
   "outputs": [],
   "source": [
    "  Start--------------ENDsta"
   ]
  }
 ],
 "metadata": {
  "kernelspec": {
   "display_name": "Python 2",
   "language": "python",
   "name": "python2"
  },
  "language_info": {
   "codemirror_mode": {
    "name": "ipython",
    "version": 2
   },
   "file_extension": ".py",
   "mimetype": "text/x-python",
   "name": "python",
   "nbconvert_exporter": "python",
   "pygments_lexer": "ipython2",
   "version": "2.7.11"
  }
 },
 "nbformat": 4,
 "nbformat_minor": 0
}
