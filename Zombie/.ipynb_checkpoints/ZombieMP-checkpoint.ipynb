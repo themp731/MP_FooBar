{
 "cells": [
  {
   "cell_type": "code",
   "execution_count": 38,
   "metadata": {
    "collapsed": true
   },
   "outputs": [],
   "source": [
    "#Using \"itemgetter\" improves sorting over using for loop and splitting.\n",
    "import operator"
   ]
  },
  {
   "cell_type": "code",
   "execution_count": 62,
   "metadata": {
    "collapsed": false
   },
   "outputs": [],
   "source": [
    "def answer(meetings):\n",
    "    schedule = []\n",
    "    total = 0\n",
    "    appt_sort = sorted(meetings, key=operator.itemgetter(1))\n",
    "    print appt_sort\n",
    "    for appt in appt_sort:\n",
    "        for scheduled in schedule:\n",
    "            #Ignore potential meetings that start and end during previously scheduled\n",
    "            if scheduled[1] > appt[0] and scheduled[0] < appt[1]:\n",
    "                pass\n",
    "            elif scheduled[0]1:\n",
    "                pass\n",
    "            else:\n",
    "                schedule.append(appt)\n",
    "    print(\"Hello\")\n",
    "    return schedule"
   ]
  },
  {
   "cell_type": "code",
   "execution_count": 63,
   "metadata": {
    "collapsed": false
   },
   "outputs": [
    {
     "name": "stdout",
     "output_type": "stream",
     "text": [
      "[[0, 1], [1, 2], [2, 3], [3, 5], [4, 5], [3, 6]]\n",
      "Hello\n",
      "[[42, 43], [42, 43], [0, 1000000], [0, 1000000]]\n",
      "Hello\n"
     ]
    },
    {
     "data": {
      "text/plain": [
       "[]"
      ]
     },
     "execution_count": 63,
     "metadata": {},
     "output_type": "execute_result"
    }
   ],
   "source": [
    "answer([[0, 1], [1, 2], [2, 3], [3,6], [3, 5], [4, 5]])\n",
    "answer([[0, 1000000], [42, 43], [0, 1000000], [42, 43]])"
   ]
  },
  {
   "cell_type": "code",
   "execution_count": null,
   "metadata": {
    "collapsed": true
   },
   "outputs": [],
   "source": [
    "  Start--------------ENDsta"
   ]
  }
 ],
 "metadata": {
  "kernelspec": {
   "display_name": "Python 2",
   "language": "python",
   "name": "python2"
  },
  "language_info": {
   "codemirror_mode": {
    "name": "ipython",
    "version": 2
   },
   "file_extension": ".py",
   "mimetype": "text/x-python",
   "name": "python",
   "nbconvert_exporter": "python",
   "pygments_lexer": "ipython2",
   "version": "2.7.11"
  }
 },
 "nbformat": 4,
 "nbformat_minor": 0
}
