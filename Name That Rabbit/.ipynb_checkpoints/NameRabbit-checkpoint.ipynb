{
 "cells": [
  {
   "cell_type": "code",
   "execution_count": 136,
   "metadata": {
    "collapsed": false
   },
   "outputs": [],
   "source": [
    "#Bring in string terms not always available, and operator for sorting dictionary\n",
    "import string\n",
    "import operator\n",
    "\n",
    "#Build score of each letter, keep lowercase\n",
    "letters = string.ascii_lowercase\n",
    "numbers = range(1,27)\n",
    "letter_score = dict(zip(letters,numbers))"
   ]
  },
  {
   "cell_type": "code",
   "execution_count": 209,
   "metadata": {
    "collapsed": false
   },
   "outputs": [],
   "source": [
    "def answer(name_list):\n",
    "    names_dict = {}\n",
    "    names = []\n",
    "    for i in name_list:\n",
    "        score=0\n",
    "        for j in list(i):\n",
    "            score+=letter_score[j]\n",
    "        names_dict[i]=score\n",
    "    name_sort = sorted(names_dict.iteritems(), key=operator.itemgetter(1), reverse=True)\n",
    "    for k in name_sort:\n",
    "        names.append([k[0],k[1]])\n",
    "    for l in range(0,len(names)-1):\n",
    "        if (names[l][1]==names[l+1][1]) and (letter_score[names[l][0].strip()[0]]<letter_score[names[l+1][0].strip()[0]]):\n",
    "            mask = names[l][0]\n",
    "            names[l][0]=names[l+1][0]\n",
    "            names[l+1][0]=mask\n",
    "    #answer = [i[0] for i in names]\n",
    "    return names\n",
    "### Find if there are issues with lexographic names"
   ]
  },
  {
   "cell_type": "code",
   "execution_count": 215,
   "metadata": {
    "collapsed": false
   },
   "outputs": [
    {
     "name": "stdout",
     "output_type": "stream",
     "text": [
      "['liz', 'bpnnid', 'bonnie', 'annie']\n"
     ]
    }
   ],
   "source": [
    "def answer2(names):\n",
    "    names = sorted(names, reverse=True)\n",
    "    name_values = sorted([((current_name,value(current_name))) for current_name in names],key=lambda value: value[1], reverse=True)\n",
    "    return [name[0] for name in name_values]\n",
    "\n",
    "def value(name):\n",
    "    letters = string.ascii_lowercase\n",
    "    numbers = range(1,27)\n",
    "    letter_score = dict(zip(letters,numbers))\n",
    "    sum(letter_score[letter] for letter in name)\n",
    "\n",
    "print answer2(names = [\"annie\", \"bonnie\", \"liz\", \"bpnnid\"])"
   ]
  },
  {
   "cell_type": "code",
   "execution_count": 424,
   "metadata": {
    "collapsed": false
   },
   "outputs": [],
   "source": [
    "def answer3(name_list):\n",
    "    names = []\n",
    "    answer=[]\n",
    "    for i in name_list:\n",
    "        score=0\n",
    "        for j in list(i):\n",
    "            score+=letter_score[j]\n",
    "        names.append([score,i])\n",
    "    sort = sorted([names[i][1]])\n",
    "    for i in range(len(names)-1):\n",
    "        print sort\n",
    "        if names[i][0]==names[i+1][0]:\n",
    "            names[i][1]=sort[1]\n",
    "            names[i+1][1]=sort[0]\n",
    "    for i in range(len(names)):\n",
    "        answer.append(names[i][1])\n",
    "    return answer\n",
    "        "
   ]
  },
  {
   "cell_type": "code",
   "execution_count": 425,
   "metadata": {
    "collapsed": false
   },
   "outputs": [
    {
     "ename": "TypeError",
     "evalue": "list indices must be integers, not str",
     "output_type": "error",
     "traceback": [
      "\u001b[0;31m---------------------------------------------------------------------------\u001b[0m",
      "\u001b[0;31mTypeError\u001b[0m                                 Traceback (most recent call last)",
      "\u001b[0;32m<ipython-input-425-15fb60dae94c>\u001b[0m in \u001b[0;36m<module>\u001b[0;34m()\u001b[0m\n\u001b[1;32m      1\u001b[0m \u001b[0mmps\u001b[0m \u001b[0;34m=\u001b[0m \u001b[0;34m[\u001b[0m\u001b[0;34m'cj'\u001b[0m\u001b[0;34m,\u001b[0m\u001b[0;34m'al'\u001b[0m\u001b[0;34m]\u001b[0m\u001b[0;34m\u001b[0m\u001b[0m\n\u001b[0;32m----> 2\u001b[0;31m \u001b[0manswer3\u001b[0m\u001b[0;34m(\u001b[0m\u001b[0mmps\u001b[0m\u001b[0;34m)\u001b[0m\u001b[0;34m\u001b[0m\u001b[0m\n\u001b[0m",
      "\u001b[0;32m<ipython-input-424-ffbc3d7daae0>\u001b[0m in \u001b[0;36manswer3\u001b[0;34m(name_list)\u001b[0m\n\u001b[1;32m      7\u001b[0m             \u001b[0mscore\u001b[0m\u001b[0;34m+=\u001b[0m\u001b[0mletter_score\u001b[0m\u001b[0;34m[\u001b[0m\u001b[0mj\u001b[0m\u001b[0;34m]\u001b[0m\u001b[0;34m\u001b[0m\u001b[0m\n\u001b[1;32m      8\u001b[0m         \u001b[0mnames\u001b[0m\u001b[0;34m.\u001b[0m\u001b[0mappend\u001b[0m\u001b[0;34m(\u001b[0m\u001b[0;34m[\u001b[0m\u001b[0mscore\u001b[0m\u001b[0;34m,\u001b[0m\u001b[0mi\u001b[0m\u001b[0;34m]\u001b[0m\u001b[0;34m)\u001b[0m\u001b[0;34m\u001b[0m\u001b[0m\n\u001b[0;32m----> 9\u001b[0;31m     \u001b[0msort\u001b[0m \u001b[0;34m=\u001b[0m \u001b[0msorted\u001b[0m\u001b[0;34m(\u001b[0m\u001b[0;34m[\u001b[0m\u001b[0mnames\u001b[0m\u001b[0;34m[\u001b[0m\u001b[0mi\u001b[0m\u001b[0;34m]\u001b[0m\u001b[0;34m[\u001b[0m\u001b[0;36m1\u001b[0m\u001b[0;34m]\u001b[0m\u001b[0;34m]\u001b[0m\u001b[0;34m)\u001b[0m\u001b[0;34m\u001b[0m\u001b[0m\n\u001b[0m\u001b[1;32m     10\u001b[0m     \u001b[0;32mfor\u001b[0m \u001b[0mi\u001b[0m \u001b[0;32min\u001b[0m \u001b[0mrange\u001b[0m\u001b[0;34m(\u001b[0m\u001b[0mlen\u001b[0m\u001b[0;34m(\u001b[0m\u001b[0mnames\u001b[0m\u001b[0;34m)\u001b[0m\u001b[0;34m-\u001b[0m\u001b[0;36m1\u001b[0m\u001b[0;34m)\u001b[0m\u001b[0;34m:\u001b[0m\u001b[0;34m\u001b[0m\u001b[0m\n\u001b[1;32m     11\u001b[0m         \u001b[0;32mprint\u001b[0m \u001b[0msort\u001b[0m\u001b[0;34m\u001b[0m\u001b[0m\n",
      "\u001b[0;31mTypeError\u001b[0m: list indices must be integers, not str"
     ]
    }
   ],
   "source": [
    "mps = ['cj','al']\n",
    "answer3(mps)"
   ]
  },
  {
   "cell_type": "code",
   "execution_count": 422,
   "metadata": {
    "collapsed": false
   },
   "outputs": [
    {
     "ename": "TypeError",
     "evalue": "list indices must be integers, not str",
     "output_type": "error",
     "traceback": [
      "\u001b[0;31m---------------------------------------------------------------------------\u001b[0m",
      "\u001b[0;31mTypeError\u001b[0m                                 Traceback (most recent call last)",
      "\u001b[0;32m<ipython-input-422-c031b1a8599f>\u001b[0m in \u001b[0;36m<module>\u001b[0;34m()\u001b[0m\n\u001b[1;32m      1\u001b[0m \u001b[0mmylist\u001b[0m\u001b[0;34m=\u001b[0m\u001b[0;34m[\u001b[0m\u001b[0;34m\"aj\"\u001b[0m\u001b[0;34m,\u001b[0m\u001b[0;34m\"zzz\"\u001b[0m\u001b[0;34m,\u001b[0m\u001b[0;34m\"al\"\u001b[0m\u001b[0;34m,\u001b[0m\u001b[0;34m\"ccc\"\u001b[0m\u001b[0;34m,\u001b[0m\u001b[0;34m\"cdb\"\u001b[0m\u001b[0;34m,\u001b[0m\u001b[0;34m\"ccd\"\u001b[0m\u001b[0;34m,\u001b[0m\u001b[0;34m\"io\"\u001b[0m\u001b[0;34m,\u001b[0m\u001b[0;34m\"oi\"\u001b[0m\u001b[0;34m,\u001b[0m\u001b[0;34m\"jkla\"\u001b[0m\u001b[0;34m,\u001b[0m\u001b[0;34m\"asf\"\u001b[0m\u001b[0;34m,\u001b[0m\u001b[0;34m\"asdf\"\u001b[0m\u001b[0;34m,\u001b[0m\u001b[0;34m\"aaaaa\"\u001b[0m\u001b[0;34m,\u001b[0m\u001b[0;34m\"aaaab\"\u001b[0m\u001b[0;34m,\u001b[0m\u001b[0;34m\"aaac\"\u001b[0m\u001b[0;34m,\u001b[0m\u001b[0;34m\"aabc\"\u001b[0m\u001b[0;34m,\u001b[0m\u001b[0;34m\"zz\"\u001b[0m\u001b[0;34m]\u001b[0m\u001b[0;34m\u001b[0m\u001b[0m\n\u001b[0;32m----> 2\u001b[0;31m \u001b[0manswer3\u001b[0m\u001b[0;34m(\u001b[0m\u001b[0mmylist\u001b[0m\u001b[0;34m)\u001b[0m\u001b[0;34m\u001b[0m\u001b[0m\n\u001b[0m",
      "\u001b[0;32m<ipython-input-420-cb816c9b0fd8>\u001b[0m in \u001b[0;36manswer3\u001b[0;34m(name_list)\u001b[0m\n\u001b[1;32m      7\u001b[0m             \u001b[0mscore\u001b[0m\u001b[0;34m+=\u001b[0m\u001b[0mletter_score\u001b[0m\u001b[0;34m[\u001b[0m\u001b[0mj\u001b[0m\u001b[0;34m]\u001b[0m\u001b[0;34m\u001b[0m\u001b[0m\n\u001b[1;32m      8\u001b[0m         \u001b[0mnames\u001b[0m\u001b[0;34m.\u001b[0m\u001b[0mappend\u001b[0m\u001b[0;34m(\u001b[0m\u001b[0;34m[\u001b[0m\u001b[0mscore\u001b[0m\u001b[0;34m,\u001b[0m\u001b[0mi\u001b[0m\u001b[0;34m]\u001b[0m\u001b[0;34m)\u001b[0m\u001b[0;34m\u001b[0m\u001b[0m\n\u001b[0;32m----> 9\u001b[0;31m     \u001b[0msort\u001b[0m \u001b[0;34m=\u001b[0m \u001b[0msorted\u001b[0m\u001b[0;34m(\u001b[0m\u001b[0;34m[\u001b[0m\u001b[0mnames\u001b[0m\u001b[0;34m[\u001b[0m\u001b[0mi\u001b[0m\u001b[0;34m]\u001b[0m\u001b[0;34m[\u001b[0m\u001b[0;36m1\u001b[0m\u001b[0;34m]\u001b[0m\u001b[0;34m,\u001b[0m\u001b[0mnames\u001b[0m\u001b[0;34m[\u001b[0m\u001b[0mi\u001b[0m\u001b[0;34m+\u001b[0m\u001b[0;36m1\u001b[0m\u001b[0;34m]\u001b[0m\u001b[0;34m[\u001b[0m\u001b[0;36m1\u001b[0m\u001b[0;34m]\u001b[0m\u001b[0;34m]\u001b[0m\u001b[0;34m)\u001b[0m\u001b[0;34m\u001b[0m\u001b[0m\n\u001b[0m\u001b[1;32m     10\u001b[0m     \u001b[0;32mfor\u001b[0m \u001b[0mi\u001b[0m \u001b[0;32min\u001b[0m \u001b[0mrange\u001b[0m\u001b[0;34m(\u001b[0m\u001b[0mlen\u001b[0m\u001b[0;34m(\u001b[0m\u001b[0mnames\u001b[0m\u001b[0;34m)\u001b[0m\u001b[0;34m-\u001b[0m\u001b[0;36m1\u001b[0m\u001b[0;34m)\u001b[0m\u001b[0;34m:\u001b[0m\u001b[0;34m\u001b[0m\u001b[0m\n\u001b[1;32m     11\u001b[0m         \u001b[0;32mprint\u001b[0m \u001b[0msort\u001b[0m\u001b[0;34m\u001b[0m\u001b[0m\n",
      "\u001b[0;31mTypeError\u001b[0m: list indices must be integers, not str"
     ]
    }
   ],
   "source": [
    "mylist=[\"aj\",\"zzz\",\"al\",\"ccc\",\"cdb\",\"ccd\",\"io\",\"oi\",\"jkla\",\"asf\",\"asdf\",\"aaaaa\",\"aaaab\",\"aaac\",\"aabc\",\"zz\"]\n",
    "answer3(mylist)"
   ]
  },
  {
   "cell_type": "code",
   "execution_count": null,
   "metadata": {
    "collapsed": true
   },
   "outputs": [],
   "source": []
  }
 ],
 "metadata": {
  "kernelspec": {
   "display_name": "Python 2",
   "language": "python",
   "name": "python2"
  },
  "language_info": {
   "codemirror_mode": {
    "name": "ipython",
    "version": 2
   },
   "file_extension": ".py",
   "mimetype": "text/x-python",
   "name": "python",
   "nbconvert_exporter": "python",
   "pygments_lexer": "ipython2",
   "version": "2.7.11"
  }
 },
 "nbformat": 4,
 "nbformat_minor": 0
}
