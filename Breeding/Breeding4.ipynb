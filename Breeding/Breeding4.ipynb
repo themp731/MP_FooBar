{
 "cells": [
  {
   "cell_type": "markdown",
   "metadata": {},
   "source": [
    "#### The Goal Here Is to limit the N search"
   ]
  },
  {
   "cell_type": "code",
   "execution_count": 47,
   "metadata": {
    "collapsed": true
   },
   "outputs": [],
   "source": [
    "import matplotlib.pyplot as plt\n",
    "\n",
    "%matplotlib inline"
   ]
  },
  {
   "cell_type": "code",
   "execution_count": 10,
   "metadata": {
    "collapsed": false
   },
   "outputs": [],
   "source": [
    "import string\n",
    "import math\n",
    "\n",
    "rabbits = {0:1,1:1,2:2}\n",
    "\n",
    "def breed2(n):\n",
    "    if n in rabbits:\n",
    "        return rabbits[n]\n",
    "    x = n // 2\n",
    "    if x*2 == n:\n",
    "        rabbits[n] = breed2(x) + breed2(x + 1) + (x)\n",
    "    else:\n",
    "        rabbits[n] = breed2(x - 1) + breed2(x) + 1\n",
    "    return rabbits[n]\n",
    "\n",
    "\n",
    "def binary_search(limit, pop):\n",
    "    start, end = 0, pop\n",
    "    while start <= end:\n",
    "        mid = (start + end) // 2\n",
    "        probe = breed2(limit(mid))\n",
    "        if probe == pop:\n",
    "            return mid\n",
    "        if probe < pop:\n",
    "            start = mid + 1\n",
    "        else:\n",
    "            end = mid - 1\n",
    "    return -1\n",
    "\n",
    "def answer(str_S):\n",
    "    pop = int(str_S,10)\n",
    "    search_even = binary_search(lambda n: n * 2, pop) * 2\n",
    "    search_odd = binary_search(lambda n: n * 2 + 1, pop) * 2 + 1\n",
    "    if search_even < 0:\n",
    "        result = None if search_odd < 0 else search_odd\n",
    "    elif search_odd < 0:\n",
    "        result = search_even\n",
    "    else:\n",
    "        result = max(search_even, search_odd)\n",
    "    if type(result) is float:\n",
    "        res_str = str(result)\n",
    "        res_str = res_str.replace(\".0\",\"\")\n",
    "        return res_str\n",
    "    elif type(result) is int:\n",
    "        res_str = str(result)\n",
    "        res_str = res_str.replace(\".0\",\"\")\n",
    "        return res_str\n",
    "    else:\n",
    "        res_str = str(result)\n",
    "        return res_str"
   ]
  },
  {
   "cell_type": "code",
   "execution_count": 11,
   "metadata": {
    "collapsed": false
   },
   "outputs": [
    {
     "name": "stdout",
     "output_type": "stream",
     "text": [
      "4\n",
      "5\n"
     ]
    },
    {
     "data": {
      "text/plain": [
       "'4'"
      ]
     },
     "execution_count": 11,
     "metadata": {},
     "output_type": "execute_result"
    }
   ],
   "source": [
    "answer(\"7\")"
   ]
  },
  {
   "cell_type": "code",
   "execution_count": null,
   "metadata": {
    "collapsed": true
   },
   "outputs": [],
   "source": []
  }
 ],
 "metadata": {
  "kernelspec": {
   "display_name": "Python 2",
   "language": "python",
   "name": "python2"
  },
  "language_info": {
   "codemirror_mode": {
    "name": "ipython",
    "version": 2
   },
   "file_extension": ".py",
   "mimetype": "text/x-python",
   "name": "python",
   "nbconvert_exporter": "python",
   "pygments_lexer": "ipython2",
   "version": "2.7.11"
  }
 },
 "nbformat": 4,
 "nbformat_minor": 0
}
