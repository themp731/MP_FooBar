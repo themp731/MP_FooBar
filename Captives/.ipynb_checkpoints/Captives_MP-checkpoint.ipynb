{
 "cells": [
  {
   "cell_type": "markdown",
   "metadata": {},
   "source": [
    "https://github.com/rtheunissen/foobar/blob/master/line_up_the_captives.py\n",
    "\n",
    "http://math.stackexchange.com/questions/1599036/how-many-ways-to-line-up-n-objects-with-distinct-heights\n",
    "\n",
    "https://github.com/dlew/google-foobar/blob/master/src/main/java/com/google/challenges/LineUpTheCaptives.java\n",
    "\n",
    "https://github.com/neale/foobar/blob/master/line-up-the-captives/solution.py\n",
    "\n",
    "https://github.com/rtheunissen/foobar/blob/master/line_up_the_captives.py\n",
    "\n",
    "https://github.com/dereklwin/Foobar-Line-up-the-captives/blob/master/answer.py"
   ]
  },
  {
   "cell_type": "code",
   "execution_count": 15,
   "metadata": {
    "collapsed": true
   },
   "outputs": [],
   "source": [
    "from math import factorial\n",
    "from itertools import combinations"
   ]
  },
  {
   "cell_type": "code",
   "execution_count": 18,
   "metadata": {
    "collapsed": false
   },
   "outputs": [],
   "source": [
    "#Dynamic programming will allow us to remember options per iteration\n",
    "prev = {}\n",
    "\n",
    "def results(pos, result, *args):\n",
    "    if pos not in prev:\n",
    "        prev[pos] = result(*args)\n",
    "    return prev[pos]\n",
    "\n",
    "def arrangements(rab, view):\n",
    "    if view > rab:\n",
    "        return 0\n",
    "    elif view == rab:\n",
    "        return 1\n",
    "    elif view == 1:\n",
    "        return factorial(rab-1)\n",
    "    elif view == rab - 1:\n",
    "        return combo(rab,view)\n",
    "    else:\n",
    "        pass\n",
    "    return results(rab,view,\"HELLO\")\n",
    "\n",
    "def combo(rab, view):\n",
    "    return combinations(rab, view)\n",
    "\n",
    "def answer(x,y,n):\n",
    "    return 0\n"
   ]
  },
  {
   "cell_type": "code",
   "execution_count": 17,
   "metadata": {
    "collapsed": false
   },
   "outputs": [
    {
     "data": {
      "text/plain": [
       "0"
      ]
     },
     "execution_count": 17,
     "metadata": {},
     "output_type": "execute_result"
    }
   ],
   "source": [
    "answer(2,2,3)"
   ]
  },
  {
   "cell_type": "code",
   "execution_count": 8,
   "metadata": {
    "collapsed": false,
    "scrolled": true
   },
   "outputs": [
    {
     "data": {
      "text/plain": [
       "0"
      ]
     },
     "execution_count": 8,
     "metadata": {},
     "output_type": "execute_result"
    }
   ],
   "source": [
    "answer(1,2,6)"
   ]
  },
  {
   "cell_type": "code",
   "execution_count": 302,
   "metadata": {
    "collapsed": false
   },
   "outputs": [
    {
     "name": "stdout",
     "output_type": "stream",
     "text": [
      "[0, 0, 0, 0, 0, 7, 0]\n"
     ]
    },
    {
     "data": {
      "text/plain": [
       "[0, 0, 1, 0, 0, 1, 0]"
      ]
     },
     "execution_count": 302,
     "metadata": {},
     "output_type": "execute_result"
    }
   ],
   "source": [
    "answer(2,4,7)"
   ]
  },
  {
   "cell_type": "code",
   "execution_count": null,
   "metadata": {
    "collapsed": false
   },
   "outputs": [],
   "source": [
    "Inputs:\n",
    "    (int) x = 2\n",
    "    (int) y = 2\n",
    "    (int) n = 3\n",
    "Outpuat:\n",
    "    (string) \"2\"\n",
    "\n",
    "Inputs:\n",
    "    (int) x = 1\n",
    "    (int) y = 2\n",
    "    (int) n = 6\n",
    "Output:\n",
    "    (string) \"24\""
   ]
  },
  {
   "cell_type": "code",
   "execution_count": 142,
   "metadata": {
    "collapsed": true
   },
   "outputs": [],
   "source": [
    "def answer_2(x,y,n):\n",
    "    heights = [z for z in range(1,n+1)]\n",
    "    lineup = [1]*n\n",
    "    \n",
    "    #Base cases\n",
    "    if x==1:\n",
    "        lineup[0]=1\n",
    "    if y==n:\n",
    "        lineup[n-1]=1\n",
    "    if (y==n) or (x==n):\n",
    "        result = str(math.factorial(n))\n",
    "        return result\n",
    "    \n",
    "    #Align X and Y Options\n",
    "    if x==y:\n",
    "        x_choose = math.factorial(x-1)\n",
    "        y_choose = math.factorial(y-1)\n",
    "        result = x_choose + y_choose\n",
    "        return str(result)\n",
    "    elif x<y:\n",
    "        mid_choose = math.factorial(n-y)\n",
    "        x_choose = math.factorial(x)\n",
    "        y_choose = math.factorial(y-x)\n",
    "        result = mid_choose+y_choose+x_choose-2\n",
    "        return str(result)\n",
    "    elif x>y:\n",
    "        mid_choose = math.factorial(n-x)\n",
    "        x_choose = math.factorial(x)\n",
    "        y_choose = math.factorial(x-u)\n",
    "        result = mid_choose+y_choose+x_choose-2\n",
    "        return str(result)\n",
    "    else:\n",
    "        result = str(0)\n",
    "        return result\n",
    "        \n",
    "    \n",
    "    print heights\n",
    "    print lineup"
   ]
  },
  {
   "cell_type": "code",
   "execution_count": 143,
   "metadata": {
    "collapsed": true
   },
   "outputs": [],
   "source": [
    "def answer_3(x,y,n):\n",
    "    heights = range(1,n+1)\n",
    "    order = [0]*n\n",
    "    order[x-1]=x\n",
    "    order[n-y]=y\n",
    "    changes=0\n",
    "    for i in order:\n",
    "        if i == 0:\n",
    "            changes+=1\n",
    "    iters = math.factorial(changes)\n",
    "    iter_str = str(iters)\n",
    "    return iter_str"
   ]
  },
  {
   "cell_type": "code",
   "execution_count": null,
   "metadata": {
    "collapsed": true
   },
   "outputs": [],
   "source": []
  }
 ],
 "metadata": {
  "kernelspec": {
   "display_name": "Python 2",
   "language": "python",
   "name": "python2"
  },
  "language_info": {
   "codemirror_mode": {
    "name": "ipython",
    "version": 2
   },
   "file_extension": ".py",
   "mimetype": "text/x-python",
   "name": "python",
   "nbconvert_exporter": "python",
   "pygments_lexer": "ipython2",
   "version": "2.7.11"
  }
 },
 "nbformat": 4,
 "nbformat_minor": 0
}
